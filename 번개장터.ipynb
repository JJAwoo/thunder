{
 "cells": [
  {
   "cell_type": "code",
   "execution_count": null,
   "metadata": {},
   "outputs": [],
   "source": [
    "import requests\n",
    "from bs4 import BeautifulSoup"
   ]
  },
  {
   "cell_type": "code",
   "execution_count": null,
   "metadata": {},
   "outputs": [],
   "source": [
    "# getItem = soup.select(\"#flea-market-wrap > article\")\n",
    "# print(getItem)\n",
    "#iphone = soup.select(\"\")"
   ]
  },
  {
   "cell_type": "code",
   "execution_count": null,
   "metadata": {},
   "outputs": [],
   "source": [
    "# soup.select('.sc-hgRTRy giZyeC > a')"
   ]
  },
  {
   "cell_type": "code",
   "execution_count": null,
   "metadata": {
    "scrolled": true
   },
   "outputs": [],
   "source": [
    "import requests\n",
    "address = \"https://api.bunjang.co.kr/api/1/find_v2.json?q=%EC%95%84%EC%9D%B4%ED%8F%B011&order=score&page=0&request_id=2022519113331&stat_device=w&n=100&stat_category_required=1&req_ref=search&version=4\"\n",
    "res = requests.get(address)\n",
    "res.encoding=None\n",
    "data = res.json()\n",
    "#data"
   ]
  },
  {
   "cell_type": "code",
   "execution_count": null,
   "metadata": {},
   "outputs": [],
   "source": [
    "for d in data['list']:\n",
    "    #print(d['name'])\n",
    "    \n",
    "# [d['name'] for d in data['list']]  _ list comprehension"
   ]
  },
  {
   "cell_type": "code",
   "execution_count": null,
   "metadata": {},
   "outputs": [],
   "source": [
    "for i in range(0,5):   \n",
    "    param = {'page': i}\n",
    "    res = requests.get(address, params = param)\n",
    "    res.encoding = None"
   ]
  },
  {
   "cell_type": "markdown",
   "metadata": {},
   "source": [
    "#### 아이폰 11 1-10페이지 상품명&가격 출력"
   ]
  },
  {
   "cell_type": "markdown",
   "metadata": {},
   "source": [
    "+ 키워드 지정해서 제외\n",
    "+ 페이지 전부 출력하는 반복문 (range?)\n",
    "+ 기종별로 분류\n",
    "+ 데이터베이스 추가"
   ]
  },
  {
   "cell_type": "code",
   "execution_count": null,
   "metadata": {},
   "outputs": [],
   "source": [
    "# for page_number in range(0,3): \n",
    "\n",
    "#     url = \"https://api.bunjang.co.kr/api/1/find_v2.json?q=%EC%95%84%EC%9D%B4%ED%8F%B011&order=score&page={0}&request_id=2022519113331&stat_device=w&n=100&stat_category_required=1&req_ref=search&version=4\".format(page_number)\n",
    "#     res = requests.get(url)\n",
    "#     res.encoding=None\n",
    "#     data = res.json()\n",
    "    \n",
    "    \n",
    "#     for d in data['list']:\n",
    "#         a = int(d['price'])\n",
    "#         print(d['name'],a)\n",
    "            "
   ]
  },
  {
   "cell_type": "code",
   "execution_count": null,
   "metadata": {},
   "outputs": [],
   "source": [
    "thunder1=[]\n",
    "thunder2=[]\n",
    "e=[]\n",
    "\n",
    "for page_number in range(0,1): \n",
    "\n",
    "    url = \"https://api.bunjang.co.kr/api/1/find_v2.json?q=%EC%95%84%EC%9D%B4%ED%8F%B011&order=score&page={0}&request_id=2022519113331&stat_device=w&n=100&stat_category_required=1&req_ref=search&version=4\".format(page_number)\n",
    "    res = requests.get(url)\n",
    "    res.encoding=None\n",
    "    data = res.json()\n",
    "    \n",
    "    for d in data['list']:\n",
    "        a = int(d['price'])\n",
    "        excepts = [\"케이스\",\"삽니다\", \"매입\", \"구매\", \"구입\",\"프로\",\"Pro\",\"pro\",\"에어팟\", \"미니\"]\n",
    "        targets = ['배터리', '판매', '팔아요']\n",
    "        unix = str(datetime.datetime.fromtimestamp(d['update_time']))\n",
    "        if (a >= 50000) & (a < 1600000) ==True :\n",
    "            if ( d['ad']==False ):\n",
    "                if any(x in d[\"name\"] for x in targets) and not any(x in d['name'] for x in excepts):\n",
    "                 thunder1.append(d['name'])\n",
    "                 thunder2.append(a)\n",
    "                 e.append(unix)\n",
    "                 print(d['name'],a,unix)\n",
    "        else:\n",
    "            pass"
   ]
  },
  {
   "cell_type": "code",
   "execution_count": null,
   "metadata": {},
   "outputs": [],
   "source": [
    "print(len(thunder1))\n",
    "print(len(thunder2))"
   ]
  },
  {
   "cell_type": "code",
   "execution_count": null,
   "metadata": {},
   "outputs": [],
   "source": [
    "#강사님이 알려주신 방법\n",
    "\n",
    "# q = []\n",
    "# for page_number in range(0,3): \n",
    "\n",
    "#     url = \"https://api.bunjang.co.kr/api/1/find_v2.json?q=%EC%95%84%EC%9D%B4%ED%8F%B011&order=score&page={0}&request_id=2022519113331&stat_device=w&n=100&stat_category_required=1&req_ref=search&version=4\".format(page_number)\n",
    "#     res = requests.get(url)\n",
    "#     res.encoding=None\n",
    "#     for d in data['list']:\n",
    "#         w = {}\n",
    "#         a = int(d['price'])\n",
    "#         excepts = [\"삽니다\", \"매입\", \"구매\", \"구입\"]\n",
    "#         if ((a >= 300000)&(a <= 1000000)) == True:\n",
    "#             if (d['ad']==False):\n",
    "#                 if not any(x in d['name'] for x in excepts):\n",
    "#                  w['name'] = d['name']\n",
    "#                  w['price'] = a\n",
    "#                  # print(a)\n",
    "#                  q.append(w)\n",
    "#             else:\n",
    "#                 pass\n",
    "#     print(q)"
   ]
  },
  {
   "cell_type": "code",
   "execution_count": null,
   "metadata": {},
   "outputs": [],
   "source": [
    "import pandas as pd\n",
    "df = pd.DataFrame({'name' : thunder1,\n",
    "                 'price' : thunder2,\n",
    "                 'date' : e})\n",
    "df"
   ]
  },
  {
   "cell_type": "code",
   "execution_count": null,
   "metadata": {},
   "outputs": [],
   "source": [
    "#!pip install openpyxl\n",
    "from pandas import ExcelWriter"
   ]
  },
  {
   "cell_type": "code",
   "execution_count": null,
   "metadata": {},
   "outputs": [],
   "source": [
    "a['price'].hist(bins='auto')"
   ]
  },
  {
   "cell_type": "code",
   "execution_count": null,
   "metadata": {},
   "outputs": [],
   "source": [
    "a.to_excel('C:/Users/user/Desktop/project/thunder.xlsx',index=False)"
   ]
  },
  {
   "cell_type": "code",
   "execution_count": null,
   "metadata": {},
   "outputs": [],
   "source": []
  },
  {
   "cell_type": "markdown",
   "metadata": {},
   "source": [
    "#### 날짜 선언(5.19일 이전 데이터만)"
   ]
  }
 ],
 "metadata": {
  "kernelspec": {
   "display_name": "Python 3",
   "language": "python",
   "name": "python3"
  },
  "language_info": {
   "codemirror_mode": {
    "name": "ipython",
    "version": 3
   },
   "file_extension": ".py",
   "mimetype": "text/x-python",
   "name": "python",
   "nbconvert_exporter": "python",
   "pygments_lexer": "ipython3",
   "version": "3.7.4"
  }
 },
 "nbformat": 4,
 "nbformat_minor": 2
}
