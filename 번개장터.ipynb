{
 "cells": [
  {
   "cell_type": "code",
   "execution_count": 1,
   "metadata": {},
   "outputs": [],
   "source": [
    "import requests\n",
    "from bs4 import BeautifulSoup"
   ]
  },
  {
   "cell_type": "code",
   "execution_count": null,
   "metadata": {},
   "outputs": [],
   "source": [
    "# getItem = soup.select(\"#flea-market-wrap > article\")\n",
    "# print(getItem)\n",
    "#iphone = soup.select(\"\")"
   ]
  },
  {
   "cell_type": "code",
   "execution_count": null,
   "metadata": {},
   "outputs": [],
   "source": [
    "# soup.select('.sc-hgRTRy giZyeC > a')"
   ]
  },
  {
   "cell_type": "code",
   "execution_count": 2,
   "metadata": {
    "scrolled": true
   },
   "outputs": [],
   "source": [
    "import requests\n",
    "address = \"https://api.bunjang.co.kr/api/1/find_v2.json?q=%EC%95%84%EC%9D%B4%ED%8F%B011&order=score&page=0&request_id=2022519113331&stat_device=w&n=100&stat_category_required=1&req_ref=search&version=4\"\n",
    "res = requests.get(address)\n",
    "res.encoding=None\n",
    "data = res.json()\n",
    "#data"
   ]
  },
  {
   "cell_type": "code",
   "execution_count": 4,
   "metadata": {
    "collapsed": true
   },
   "outputs": [
    {
     "name": "stdout",
     "output_type": "stream",
     "text": [
      "파손폰매입 중고폰매입 고장폰 아이폰파손 불량폰  부품폰 파손폰 11 12\n",
      "[중고폰 매입] 깨진아이폰/고장폰/파손폰/아이폰xs/아이폰11/아이폰x\n",
      "아이폰11프로 팝니다.\n",
      "아이폰 11 PRO 64G 34만원에 싸게 팝니다\n",
      "아이폰11 128기가 \n",
      "파손폰매입 중고폰매입 고장폰 아이폰12 아이폰11 아이폰xs 아이폰x\n",
      "아이폰11 64기가 A급 화이트 54172\n",
      "아이폰11프로 256기가 그린\n",
      "아이폰11  128기가 화이트 A-급\n",
      "아이폰 11 프로 64g 스페이스 그레이\n",
      "알릭스 아이폰 11 케이스\n",
      "#당일발송# 아이폰11 64G/128G 등급별 중고폰 공기계!\n",
      "아이폰 11 케이스 일괄\n",
      "아이폰11 64기가 화이트\n",
      "요우 아이폰11 하드젤리 케이스\n",
      "아이폰11프로 256기가 그린\n",
      "중고폰매입 아이폰11,12,13,미니,프로,프로맥스 파손폰매입\n",
      "아이폰 11프로맥스 케이스 \n",
      "케어베어 아이폰11케이스\n",
      "아이폰 11/13pro max 디즈니 산리오 데코덴 케이스\n",
      "아이폰11 레드 64기가 \n",
      "*당일발송*아이폰11 최저가  판매\n",
      "아이폰11프로 정품 가죽케이스\n",
      "아이폰11프로맥스 스몰리그 팝니다~ 세트\n",
      "아이폰11프로 256G 스페이스그레이\n",
      "아이폰11프로맥스 그라파이트 64기가\n",
      "#당일 발송# 아이폰11 64G/128G 등급별 중고폰 공기계!\n",
      "배터리91 A+급 아이폰11 128G 블랙 (572)\n",
      "아이폰11그린 64G 판매합니다(93%)\n",
      "아이폰 11 케이스\n",
      "아이폰11  128GB  [화이트]  53340  (S급)\n",
      "아이폰11 64G128G  s급특s급  밧데리90프로  인천작전역 ^^\n",
      "아이폰 11 케이스 일괄\n",
      "아이폰11 64기가 초S급 판매합니다\n",
      "애플 아이폰11 화이트 64GB 잔상X 기능정상 가성비 끝판왕 저렴판매\n",
      "*당일발송*아이폰11PRO 최저가 판매\n",
      "아이폰11프로맥스 256기가 깨끗한 공기계(대화면에 가성비스펙 최고^^\n",
      "S급 애플 아이폰11 퍼플 128GB 잔상X 기능정상 가성비끝판 저렴판매\n",
      "화이트 카메라 보호 아이폰11 케이스\n",
      "아이폰11pro 핸드폰 케이스 그립톡\n",
      "아이폰11 256기가 SS급 블랙 54991\n",
      "(470) SS급 아이폰11 64G 화이트\n",
      "아이폰 11promax 256G\n",
      "애플 아이폰11 퍼플 64GB 잔상X 배터리93 기능정상 최저가 저렴판매\n",
      "아이폰 11 케이스 / 케이스티파이\n",
      "아이폰11프로 256기가 실버 S급 56495\n",
      "아이폰11 케이스 판매\n",
      "아이폰11프로맥스 64기가\n",
      "아이폰11 프로 실버 64GB 판매합니다!\n",
      "아이폰11 64gb 노란색 급처합니다\n",
      "아이폰SE2  128GB  [블랙]  60011  (SS급)\n",
      "(403) A급 아이폰11 64G 화이트\n",
      "아이폰 11프로맥스 64기가 실버\n",
      "아이폰11/128G/블랙 A급\n",
      "(405) 아이폰11 128G 블랙 최저가판매\n",
      "*당일발송*아이폰11PROMAX 최저가 판매\n",
      "아이폰 11 프로 맥스 정품 실리콘 케이스 판매! \n",
      "아이폰 프로11 크롬 마그네틱 양면 강화유리 케이스\n",
      "아이폰11프로 핸드메이드 레진 케이스 팔아요(착용샷)\n",
      "제품13 아이폰11프로[정품][무잔상] 송내중고폰 상태최상\n",
      "삼)아이폰 파손/폐폰 삽니다 7,8,X,11,12,프로\n",
      "베터리 92 아이폰 11 프로 256 그래파이트\n",
      "아이폰11 케이스\n",
      "아이폰11 pro 64기가 미드나잇그린 S급 판매합니다!!\n",
      "아이폰 11 pro 256기가 스페이스그레이 S급 판매합니다!!\n",
      "중고폰매입, 파손폰매입, S21,S22,아이폰11,아이폰12,아이폰13\n",
      "아이폰11프로맥스 64GB 골드 상태좋은 중고59만 팝니다.\n",
      "(택포) 아이폰 11프로맥스 카드 케이스\n",
      "(55) 배터리 88%  아이폰11 프로 256기가\n",
      "아이폰11 정품 실리콘케이스 블랙색상 팝니다.\n",
      "아이폰11 프로 그린 A급 64GB\n",
      "중고폰매입,중고폰삽니다,중고폰사요,아이폰13프로맥스,11프로맥스\n",
      "#후기참고# 아이폰11프로 64GB 그린 / 0506\n",
      "아이폰11 프로맥스 정품 가죽케이스 새들브라운색상팝니다.\n",
      "중고폰11핸드폰12아이폰,8,x,xs,13미니10노트s9s10s20갤럭시\n",
      "아이폰11프로256G 90%이상 중고폰\n",
      "아이폰11프로 64G 실버 A급 공기기 판매 합니다 \n",
      "아이폰 11케이스\n",
      "아이폰 11 PRO\n",
      "아이폰케이스 11pro\n",
      "불사 매머드 케이스 필름 투명 아이폰7/8XSXR111213프로맥스se2\n",
      "(미개봉)아이폰케이스11\n",
      "(미개봉)아이폰케이스11프로\n",
      "아이폰11 프로 맥스 케이스\n",
      "(미개봉)아이폰케이스11프로 \n",
      "아이패드프로5세대 12.9 11 에어팟맥스 아이폰13 맥북에어(m1)\n",
      "아이폰11 레드 박스 팔아요\n",
      "아이폰11프로256G 90%이상 중고폰\n",
      "아이폰 11promax 256g 풀박스(급처)\n",
      "아이폰 11 64기가 정상해지폰 판매합니다\n",
      "아이폰11 128GB 블랙 86%\n",
      "18568 아이폰11PRO 미드나잇 그린 256GB 52만원에 판매합니다\n",
      "30291 아이폰11PRO 미드나잇그린 64GB 42만원에 판매합니다\n",
      "아이폰11\n",
      "(새상품)아이폰11케이스\n",
      "#변색없는 크리스탈 하드 케이스 투명 아이폰7 8XSXR11213SE2\n",
      "아이폰 11 128GB\n",
      "아이폰11프로256기가\n",
      "아이폰 11 프로 스그 배터리 효율 86프로\n",
      "애플 아이폰11 128GB 화이트 팝니다 울산중고폰 중고폰 \n"
     ]
    }
   ],
   "source": [
    "for d in data['list']:\n",
    "    #print(d['name'])\n",
    "    \n",
    "# [d['name'] for d in data['list']]  _ list comprehension"
   ]
  },
  {
   "cell_type": "code",
   "execution_count": 5,
   "metadata": {},
   "outputs": [],
   "source": [
    "# for i in range(0,5):   \n",
    "#     param = {'page': i}\n",
    "#     res = requests.get(address, params = param)\n",
    "#     res.encoding = None"
   ]
  },
  {
   "cell_type": "markdown",
   "metadata": {},
   "source": [
    "#### 아이폰 11 1-10페이지 상품명&가격 출력"
   ]
  },
  {
   "cell_type": "markdown",
   "metadata": {},
   "source": [
    "+ 키워드 지정해서 제외\n",
    "+ 페이지 전부 출력하는 반복문 (range?)\n",
    "+ 기종별로 분류\n",
    "+ 데이터베이스 추가"
   ]
  },
  {
   "cell_type": "code",
   "execution_count": null,
   "metadata": {},
   "outputs": [],
   "source": [
    "# for page_number in range(0,3): \n",
    "\n",
    "#     url = \"https://api.bunjang.co.kr/api/1/find_v2.json?q=%EC%95%84%EC%9D%B4%ED%8F%B011&order=score&page={0}&request_id=2022519113331&stat_device=w&n=100&stat_category_required=1&req_ref=search&version=4\".format(page_number)\n",
    "#     res = requests.get(url)\n",
    "#     res.encoding=None\n",
    "#     data = res.json()\n",
    "    \n",
    "    \n",
    "#     for d in data['list']:\n",
    "#         a = int(d['price'])\n",
    "#         print(d['name'],a)\n",
    "            "
   ]
  },
  {
   "cell_type": "code",
   "execution_count": 7,
   "metadata": {},
   "outputs": [],
   "source": [
    "import datetime"
   ]
  },
  {
   "cell_type": "code",
   "execution_count": 35,
   "metadata": {},
   "outputs": [
    {
     "name": "stdout",
     "output_type": "stream",
     "text": [
      "아이폰 11 128GB 320000 2022-05-20 \n",
      "아이폰11 화이트 128g 400000 2022-05-20 경기도 성남시 중원구 도촌동\n",
      "아이폰11 64g 화이트 29만 정상해지 290000 2022-05-20 서울특별시 노원구 중계2.3동\n",
      "아이폰 11 퍼플 64기가 290000 2022-05-20 서울특별시 동대문구 휘경제1동\n",
      "아이폰11 128기가 라벤더 인천 청라중고폰 390000 2022-05-20 인천광역시 서구 청라1동\n",
      "아이폰11 블랙 128기가 450000 2022-05-20 광주광역시 북구 매곡동\n",
      "아이폰 11 64GB 350000 2022-05-20 경기도 부천시 성곡동\n",
      "35759 아이폰11 퍼플 128기가  280000 2022-05-20 대전광역시 중구 대흥동\n",
      "아이폰 11 노랑이 팔아요. 350000 2022-05-20 경기도 부천시 원종2동\n",
      "아이폰11  128기가 화이트 360000 2022-05-20 서울특별시 서초구 서초1동\n",
      "아이폰11 64기가 퍼플 특A급 팝니다..대구 370000 2022-05-20 대구광역시 동구 안심3.4동\n",
      "아이폰11  128기가 화이트 A-급 370000 2022-05-20 서울특별시 서초구 서초1동\n",
      "아이폰11 128기가  430000 2022-05-20 대구광역시 서구 상중이동\n",
      "아이폰11 64기가 화이트 370000 2022-05-20 부산광역시 강서구 녹산동\n",
      "아이폰11  128기가 화이트 S급 400000 2022-05-20 서울특별시 서초구 서초1동\n",
      "아이폰11(A2221) 64GB 블랙 25만원 250000 2022-05-20 충청북도 청주시 서원구 사창동\n",
      "아이폰11 레드 64기가  434000 2022-05-20 광주광역시 광산구 첨단2동\n",
      "아이폰11그린 64G 판매합니다(93%) 480000 2022-05-20 서울특별시 성북구 장위제1동\n",
      "(403) A급 아이폰11 64G 화이트 380000 2022-05-20 경기도 성남시 분당구 정자1동\n",
      "(470) SS급 아이폰11 64G 화이트 360000 2022-05-20 경기도 성남시 분당구 정자1동\n",
      "(405) 아이폰11 128G 블랙 최저가판매 390000 2022-05-20 경기도 성남시 분당구 정자1동\n",
      "애플 아이폰11 128GB 화이트 팝니다 울산중고폰 중고폰  430000 2022-05-20 울산광역시 중구 우정동\n",
      "배터리91 A+급 아이폰11 128G 블랙 (572) 430000 2022-05-20 경기도 성남시 분당구 서현1동\n",
      "아이폰 11 PRO 480000 2022-05-20 경기도 안양시 동안구 비산1동\n",
      "애플 아이폰11 퍼플 64GB 잔상X 배터리93 기능정상 최저가 저렴판매 380000 2022-05-20 서울특별시 금천구 가산동\n"
     ]
    }
   ],
   "source": [
    "thunder1=[]\n",
    "thunder2=[]\n",
    "e=[]\n",
    "name=[]\n",
    "loc=[]\n",
    "\n",
    "for page_number in range(0,1): \n",
    "\n",
    "    url = \"https://api.bunjang.co.kr/api/1/find_v2.json?q=%EC%95%84%EC%9D%B4%ED%8F%B011&order=score&page={0}&request_id=2022519113331&stat_device=w&n=100&stat_category_required=1&req_ref=search&version=4\".format(page_number)\n",
    "    res = requests.get(url)\n",
    "    res.encoding=None\n",
    "    data = res.json()\n",
    "    \n",
    "    for d in data['list']:\n",
    "        name = d['name']\n",
    "        price = int(d['price'])\n",
    "        unix = str(datetime.datetime.fromtimestamp(d['update_time']))\n",
    "        date = unix[0:10]\n",
    "        loc = d['location']\n",
    "        excepts = [\"케이스\",\"삽니다\", \"매입\", \"구매\", \"구입\",\"프로\",\"Pro\",\"pro\",\"에어팟\", \"미니\"]\n",
    "        targets = ['판매', '팔아요', '아이폰11' , '아이폰 11']\n",
    "        if (price >= 50000) & (price < 1600000) ==True :\n",
    "            if ( d['ad']==False ):\n",
    "                if any(x in name for x in targets) and not any(x in name for x in excepts):\n",
    "                 thunder1.append(name)\n",
    "                 thunder2.append(price)\n",
    "                 e.append(unix)\n",
    "                 print(name,price,date,loc)\n",
    "        else:\n",
    "            pass"
   ]
  },
  {
   "cell_type": "code",
   "execution_count": 9,
   "metadata": {
    "collapsed": true
   },
   "outputs": [
    {
     "name": "stdout",
     "output_type": "stream",
     "text": [
      "10\n",
      "10\n",
      "10\n"
     ]
    }
   ],
   "source": [
    "print(len(thunder1))\n",
    "print(len(thunder2))\n",
    "print(len(e))"
   ]
  },
  {
   "cell_type": "code",
   "execution_count": 15,
   "metadata": {},
   "outputs": [
    {
     "data": {
      "text/plain": [
       "'2022-05-20'"
      ]
     },
     "execution_count": 15,
     "metadata": {},
     "output_type": "execute_result"
    }
   ],
   "source": [
    "# x = e[0].split()\n",
    "# x[0]"
   ]
  },
  {
   "cell_type": "code",
   "execution_count": null,
   "metadata": {},
   "outputs": [],
   "source": [
    "#강사님이 알려주신 방법\n",
    "\n",
    "# q = []\n",
    "# for page_number in range(0,3): \n",
    "\n",
    "#     url = \"https://api.bunjang.co.kr/api/1/find_v2.json?q=%EC%95%84%EC%9D%B4%ED%8F%B011&order=score&page={0}&request_id=2022519113331&stat_device=w&n=100&stat_category_required=1&req_ref=search&version=4\".format(page_number)\n",
    "#     res = requests.get(url)\n",
    "#     res.encoding=None\n",
    "#     for d in data['list']:\n",
    "#         w = {}\n",
    "#         a = int(d['price'])\n",
    "#         excepts = [\"삽니다\", \"매입\", \"구매\", \"구입\"]\n",
    "#         if ((a >= 300000)&(a <= 1000000)) == True:\n",
    "#             if (d['ad']==False):\n",
    "#                 if not any(x in d['name'] for x in excepts):\n",
    "#                  w['name'] = d['name']\n",
    "#                  w['price'] = a\n",
    "#                  # print(a)\n",
    "#                  q.append(w)\n",
    "#             else:\n",
    "#                 pass\n",
    "#     print(q)"
   ]
  },
  {
   "cell_type": "code",
   "execution_count": 32,
   "metadata": {
    "collapsed": true
   },
   "outputs": [
    {
     "data": {
      "text/html": [
       "<div>\n",
       "<style scoped>\n",
       "    .dataframe tbody tr th:only-of-type {\n",
       "        vertical-align: middle;\n",
       "    }\n",
       "\n",
       "    .dataframe tbody tr th {\n",
       "        vertical-align: top;\n",
       "    }\n",
       "\n",
       "    .dataframe thead th {\n",
       "        text-align: right;\n",
       "    }\n",
       "</style>\n",
       "<table border=\"1\" class=\"dataframe\">\n",
       "  <thead>\n",
       "    <tr style=\"text-align: right;\">\n",
       "      <th></th>\n",
       "      <th>name</th>\n",
       "      <th>price</th>\n",
       "      <th>date</th>\n",
       "      <th>location</th>\n",
       "    </tr>\n",
       "  </thead>\n",
       "  <tbody>\n",
       "    <tr>\n",
       "      <td>0</td>\n",
       "      <td>아이폰11 64g 화이트 29만 정상해지</td>\n",
       "      <td>290000</td>\n",
       "      <td>2022-05-20</td>\n",
       "      <td>경기도 안양시 동안구 비산1동</td>\n",
       "    </tr>\n",
       "    <tr>\n",
       "      <td>1</td>\n",
       "      <td>아이폰11 128기가 라벤더 인천 청라중고폰</td>\n",
       "      <td>390000</td>\n",
       "      <td>2022-05-20</td>\n",
       "      <td>경기도 안양시 동안구 비산1동</td>\n",
       "    </tr>\n",
       "    <tr>\n",
       "      <td>2</td>\n",
       "      <td>아이폰 11 퍼플 64기가</td>\n",
       "      <td>290000</td>\n",
       "      <td>2022-05-20</td>\n",
       "      <td>경기도 안양시 동안구 비산1동</td>\n",
       "    </tr>\n",
       "    <tr>\n",
       "      <td>3</td>\n",
       "      <td>아이폰11 블랙 128기가</td>\n",
       "      <td>450000</td>\n",
       "      <td>2022-05-20</td>\n",
       "      <td>경기도 안양시 동안구 비산1동</td>\n",
       "    </tr>\n",
       "    <tr>\n",
       "      <td>4</td>\n",
       "      <td>아이폰 11 64GB</td>\n",
       "      <td>350000</td>\n",
       "      <td>2022-05-20</td>\n",
       "      <td>경기도 안양시 동안구 비산1동</td>\n",
       "    </tr>\n",
       "    <tr>\n",
       "      <td>5</td>\n",
       "      <td>아이폰11 64기가 퍼플 특A급 팝니다..대구</td>\n",
       "      <td>370000</td>\n",
       "      <td>2022-05-20</td>\n",
       "      <td>경기도 안양시 동안구 비산1동</td>\n",
       "    </tr>\n",
       "    <tr>\n",
       "      <td>6</td>\n",
       "      <td>35759 아이폰11 퍼플 128기가</td>\n",
       "      <td>280000</td>\n",
       "      <td>2022-05-20</td>\n",
       "      <td>경기도 안양시 동안구 비산1동</td>\n",
       "    </tr>\n",
       "    <tr>\n",
       "      <td>7</td>\n",
       "      <td>아이폰 11 노랑이 팔아요.</td>\n",
       "      <td>350000</td>\n",
       "      <td>2022-05-20</td>\n",
       "      <td>경기도 안양시 동안구 비산1동</td>\n",
       "    </tr>\n",
       "    <tr>\n",
       "      <td>8</td>\n",
       "      <td>아이폰11  128기가 화이트</td>\n",
       "      <td>360000</td>\n",
       "      <td>2022-05-20</td>\n",
       "      <td>경기도 안양시 동안구 비산1동</td>\n",
       "    </tr>\n",
       "    <tr>\n",
       "      <td>9</td>\n",
       "      <td>아이폰11 128기가</td>\n",
       "      <td>430000</td>\n",
       "      <td>2022-05-20</td>\n",
       "      <td>경기도 안양시 동안구 비산1동</td>\n",
       "    </tr>\n",
       "    <tr>\n",
       "      <td>10</td>\n",
       "      <td>아이폰11 64기가 화이트</td>\n",
       "      <td>370000</td>\n",
       "      <td>2022-05-20</td>\n",
       "      <td>경기도 안양시 동안구 비산1동</td>\n",
       "    </tr>\n",
       "    <tr>\n",
       "      <td>11</td>\n",
       "      <td>아이폰11  128기가 화이트 S급</td>\n",
       "      <td>400000</td>\n",
       "      <td>2022-05-20</td>\n",
       "      <td>경기도 안양시 동안구 비산1동</td>\n",
       "    </tr>\n",
       "    <tr>\n",
       "      <td>12</td>\n",
       "      <td>아이폰11(A2221) 64GB 블랙 25만원</td>\n",
       "      <td>250000</td>\n",
       "      <td>2022-05-20</td>\n",
       "      <td>경기도 안양시 동안구 비산1동</td>\n",
       "    </tr>\n",
       "    <tr>\n",
       "      <td>13</td>\n",
       "      <td>아이폰 11 PRO 64G 34만원에 싸게 팝니다</td>\n",
       "      <td>340000</td>\n",
       "      <td>2022-05-20</td>\n",
       "      <td>경기도 안양시 동안구 비산1동</td>\n",
       "    </tr>\n",
       "    <tr>\n",
       "      <td>14</td>\n",
       "      <td>아이폰11  128기가 화이트 A-급</td>\n",
       "      <td>370000</td>\n",
       "      <td>2022-05-20</td>\n",
       "      <td>경기도 안양시 동안구 비산1동</td>\n",
       "    </tr>\n",
       "    <tr>\n",
       "      <td>15</td>\n",
       "      <td>아이폰11 레드 64기가</td>\n",
       "      <td>434000</td>\n",
       "      <td>2022-05-20</td>\n",
       "      <td>경기도 안양시 동안구 비산1동</td>\n",
       "    </tr>\n",
       "    <tr>\n",
       "      <td>16</td>\n",
       "      <td>아이폰11그린 64G 판매합니다(93%)</td>\n",
       "      <td>480000</td>\n",
       "      <td>2022-05-20</td>\n",
       "      <td>경기도 안양시 동안구 비산1동</td>\n",
       "    </tr>\n",
       "    <tr>\n",
       "      <td>17</td>\n",
       "      <td>배터리91 A+급 아이폰11 128G 블랙 (572)</td>\n",
       "      <td>430000</td>\n",
       "      <td>2022-05-20</td>\n",
       "      <td>경기도 안양시 동안구 비산1동</td>\n",
       "    </tr>\n",
       "    <tr>\n",
       "      <td>18</td>\n",
       "      <td>아이폰11 64기가 초S급 판매합니다</td>\n",
       "      <td>340000</td>\n",
       "      <td>2022-05-20</td>\n",
       "      <td>경기도 안양시 동안구 비산1동</td>\n",
       "    </tr>\n",
       "    <tr>\n",
       "      <td>19</td>\n",
       "      <td>(403) A급 아이폰11 64G 화이트</td>\n",
       "      <td>380000</td>\n",
       "      <td>2022-05-20</td>\n",
       "      <td>경기도 안양시 동안구 비산1동</td>\n",
       "    </tr>\n",
       "    <tr>\n",
       "      <td>20</td>\n",
       "      <td>(470) SS급 아이폰11 64G 화이트</td>\n",
       "      <td>360000</td>\n",
       "      <td>2022-05-20</td>\n",
       "      <td>경기도 안양시 동안구 비산1동</td>\n",
       "    </tr>\n",
       "    <tr>\n",
       "      <td>21</td>\n",
       "      <td>(405) 아이폰11 128G 블랙 최저가판매</td>\n",
       "      <td>390000</td>\n",
       "      <td>2022-05-20</td>\n",
       "      <td>경기도 안양시 동안구 비산1동</td>\n",
       "    </tr>\n",
       "    <tr>\n",
       "      <td>22</td>\n",
       "      <td>애플 아이폰11 128GB 화이트 팝니다 울산중고폰 중고폰</td>\n",
       "      <td>430000</td>\n",
       "      <td>2022-05-20</td>\n",
       "      <td>경기도 안양시 동안구 비산1동</td>\n",
       "    </tr>\n",
       "    <tr>\n",
       "      <td>23</td>\n",
       "      <td>아이폰 11 PRO</td>\n",
       "      <td>480000</td>\n",
       "      <td>2022-05-20</td>\n",
       "      <td>경기도 안양시 동안구 비산1동</td>\n",
       "    </tr>\n",
       "  </tbody>\n",
       "</table>\n",
       "</div>"
      ],
      "text/plain": [
       "                                 name   price        date          location\n",
       "0              아이폰11 64g 화이트 29만 정상해지  290000  2022-05-20  경기도 안양시 동안구 비산1동\n",
       "1            아이폰11 128기가 라벤더 인천 청라중고폰  390000  2022-05-20  경기도 안양시 동안구 비산1동\n",
       "2                      아이폰 11 퍼플 64기가  290000  2022-05-20  경기도 안양시 동안구 비산1동\n",
       "3                      아이폰11 블랙 128기가  450000  2022-05-20  경기도 안양시 동안구 비산1동\n",
       "4                         아이폰 11 64GB  350000  2022-05-20  경기도 안양시 동안구 비산1동\n",
       "5           아이폰11 64기가 퍼플 특A급 팝니다..대구  370000  2022-05-20  경기도 안양시 동안구 비산1동\n",
       "6               35759 아이폰11 퍼플 128기가   280000  2022-05-20  경기도 안양시 동안구 비산1동\n",
       "7                     아이폰 11 노랑이 팔아요.  350000  2022-05-20  경기도 안양시 동안구 비산1동\n",
       "8                    아이폰11  128기가 화이트  360000  2022-05-20  경기도 안양시 동안구 비산1동\n",
       "9                        아이폰11 128기가   430000  2022-05-20  경기도 안양시 동안구 비산1동\n",
       "10                     아이폰11 64기가 화이트  370000  2022-05-20  경기도 안양시 동안구 비산1동\n",
       "11                아이폰11  128기가 화이트 S급  400000  2022-05-20  경기도 안양시 동안구 비산1동\n",
       "12          아이폰11(A2221) 64GB 블랙 25만원  250000  2022-05-20  경기도 안양시 동안구 비산1동\n",
       "13        아이폰 11 PRO 64G 34만원에 싸게 팝니다  340000  2022-05-20  경기도 안양시 동안구 비산1동\n",
       "14               아이폰11  128기가 화이트 A-급  370000  2022-05-20  경기도 안양시 동안구 비산1동\n",
       "15                     아이폰11 레드 64기가   434000  2022-05-20  경기도 안양시 동안구 비산1동\n",
       "16             아이폰11그린 64G 판매합니다(93%)  480000  2022-05-20  경기도 안양시 동안구 비산1동\n",
       "17      배터리91 A+급 아이폰11 128G 블랙 (572)  430000  2022-05-20  경기도 안양시 동안구 비산1동\n",
       "18               아이폰11 64기가 초S급 판매합니다  340000  2022-05-20  경기도 안양시 동안구 비산1동\n",
       "19             (403) A급 아이폰11 64G 화이트  380000  2022-05-20  경기도 안양시 동안구 비산1동\n",
       "20            (470) SS급 아이폰11 64G 화이트  360000  2022-05-20  경기도 안양시 동안구 비산1동\n",
       "21          (405) 아이폰11 128G 블랙 최저가판매  390000  2022-05-20  경기도 안양시 동안구 비산1동\n",
       "22  애플 아이폰11 128GB 화이트 팝니다 울산중고폰 중고폰   430000  2022-05-20  경기도 안양시 동안구 비산1동\n",
       "23                         아이폰 11 PRO  480000  2022-05-20  경기도 안양시 동안구 비산1동"
      ]
     },
     "execution_count": 32,
     "metadata": {},
     "output_type": "execute_result"
    }
   ],
   "source": [
    "import pandas as pd\n",
    "df = pd.DataFrame({'name' : thunder1,\n",
    "                 'price' : thunder2,\n",
    "                 'date' : date,\n",
    "                  'location' : loc})\n",
    "df"
   ]
  },
  {
   "cell_type": "markdown",
   "metadata": {},
   "source": [
    "#### 엑셀로 dataframe옯기기"
   ]
  },
  {
   "cell_type": "code",
   "execution_count": 23,
   "metadata": {},
   "outputs": [],
   "source": [
    "#!pip install openpyxl\n",
    "from pandas import ExcelWriter"
   ]
  },
  {
   "cell_type": "code",
   "execution_count": 25,
   "metadata": {},
   "outputs": [
    {
     "data": {
      "text/plain": [
       "<matplotlib.axes._subplots.AxesSubplot at 0x22e0d376548>"
      ]
     },
     "execution_count": 25,
     "metadata": {},
     "output_type": "execute_result"
    }
   ],
   "source": [
    "df['price'].hist(bins='auto')"
   ]
  },
  {
   "cell_type": "code",
   "execution_count": 26,
   "metadata": {},
   "outputs": [],
   "source": [
    "df.to_excel('C:/Users/user/Desktop/project/thunder.xlsx',index=False)"
   ]
  },
  {
   "cell_type": "code",
   "execution_count": null,
   "metadata": {},
   "outputs": [],
   "source": []
  },
  {
   "cell_type": "markdown",
   "metadata": {},
   "source": [
    "#### 상세정보 크롤링"
   ]
  },
  {
   "cell_type": "code",
   "execution_count": null,
   "metadata": {},
   "outputs": [],
   "source": []
  },
  {
   "cell_type": "code",
   "execution_count": null,
   "metadata": {},
   "outputs": [],
   "source": []
  }
 ],
 "metadata": {
  "kernelspec": {
   "display_name": "Python 3",
   "language": "python",
   "name": "python3"
  },
  "language_info": {
   "codemirror_mode": {
    "name": "ipython",
    "version": 3
   },
   "file_extension": ".py",
   "mimetype": "text/x-python",
   "name": "python",
   "nbconvert_exporter": "python",
   "pygments_lexer": "ipython3",
   "version": "3.7.4"
  }
 },
 "nbformat": 4,
 "nbformat_minor": 2
}
