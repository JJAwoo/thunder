{
 "cells": [
  {
   "cell_type": "markdown",
   "metadata": {},
   "source": [
    "MAIN CODE"
   ]
  },
  {
   "cell_type": "code",
   "execution_count": 6,
   "metadata": {},
   "outputs": [],
   "source": [
    "import requests\n",
    "import datetime\n",
    "\n",
    "thunder1=[] #name\n",
    "thunder2=[] #price\n",
    "location = []\n",
    "description = []\n",
    "time = []\n",
    "\n",
    "\n",
    "for page_number in range(0,1): \n",
    "\n",
    "    url = \"https://api.bunjang.co.kr/api/1/find_v2.json?q=%EC%95%84%EC%9D%B4%ED%8F%B011&order=score&page={0}&request_id=2022519113331&stat_device=w&n=100&stat_category_required=1&req_ref=search&version=4\".format(page_number)\n",
    "    res = requests.get(url)\n",
    "    res.encoding=None\n",
    "    data = res.json()\n",
    "    \n",
    "    for d in data['list']:\n",
    "        name = d['name']\n",
    "        loc = d['location']\n",
    "        price = int(d['price'])\n",
    "        pid = d['pid']\n",
    "        unix = str(datetime.datetime.fromtimestamp(d['update_time']))\n",
    "        unix = unix[0:7]\n",
    "\n",
    "        \n",
    "        excepts = [\"케이스\",\"삽니다\", \"매입\", \"구매\", \"구입\",\"프로\",\"Pro\",\"pro\", \"미니\", \"PRO\", \"11PRO\"]\n",
    "        targets = ['배터리', '판매', '팔아요']\n",
    "\n",
    "        if (price >= 50000) & (price < 1600000) ==True :\n",
    "            if ( d['ad']==False ):\n",
    "                if any(x in d[\"name\"] for x in targets) and not any(x in d['name'] for x in excepts):\n",
    "                    thunder1.append(d['name'])\n",
    "                    thunder2.append(price)\n",
    "                    time.append(unix)\n",
    "                    loc = loc.split(' ')\n",
    "                    loc = loc[0]\n",
    "                    # location.append(loc)\n",
    "                    if len(loc) == 0:\n",
    "                        location.append('NULL')\n",
    "                    else:\n",
    "                        location.append(loc)\n",
    "\n",
    "                    url2 = 'https://api.bunjang.co.kr/api/1/product/{0}/detail_info.json?version=4'.format(pid)\n",
    "                    res = requests.get(url2)\n",
    "                    res.encoding=None\n",
    "                    data = res.json()\n",
    "                \n",
    "                    description.append(data['item_info']['description'])\n",
    "                    \n",
    "\n",
    "\n",
    "                    # print(name, price, unix, loc)\n",
    "\n",
    "        else:\n",
    "            pass\n",
    "\n",
    "# print(thunder1,thunder2, time, location )\n"
   ]
  },
  {
   "cell_type": "markdown",
   "metadata": {},
   "source": [
    "Desc 에서 배터리 효율 뽑아내기"
   ]
  },
  {
   "cell_type": "code",
   "execution_count": 7,
   "metadata": {},
   "outputs": [
    {
     "name": "stdout",
     "output_type": "stream",
     "text": [
      "['100']\n"
     ]
    },
    {
     "data": {
      "text/plain": [
       "\"\\nfor i in range(len(li)):    \\n    text = li[i]\\n    regex2 = '\\\\d{2,3}'\\n    pattern2 = re.compile(regex2)\\n    res2 = pattern2.findall(text)\\n    li1.append(res2)\\n\""
      ]
     },
     "execution_count": 7,
     "metadata": {},
     "output_type": "execute_result"
    }
   ],
   "source": [
    "import re\n",
    "from bs4 import BeautifulSoup\n",
    "\n",
    "li = []\n",
    "\n",
    "\n",
    "\n",
    "for i in range(len(description)):\n",
    "    text = description[i]\n",
    "    regex = '배터리\\s*.*\\d{2,3}'\n",
    "    pattern =  re.compile(regex)\n",
    "    res = pattern.findall(text)\n",
    "    \n",
    "    regex2 = '\\d{2,3}'\n",
    "    pattern2 = re.compile(regex2)\n",
    "    text = str(res)\n",
    "    res2 = pattern2.findall(text)\n",
    "    if len(res2) == 0:\n",
    "        li.append('NULL')\n",
    "    else:\n",
    "        li.append(res2[0])\n",
    "\n",
    "print(li)\n",
    "\n",
    "\n",
    "\n",
    "'''\n",
    "for i in range(len(li)):    \n",
    "    text = li[i]\n",
    "    regex2 = '\\d{2,3}'\n",
    "    pattern2 = re.compile(regex2)\n",
    "    res2 = pattern2.findall(text)\n",
    "    li1.append(res2)\n",
    "'''\n",
    "#print(li1)"
   ]
  },
  {
   "cell_type": "markdown",
   "metadata": {},
   "source": [
    "용량 빼내기"
   ]
  },
  {
   "cell_type": "code",
   "execution_count": 8,
   "metadata": {},
   "outputs": [
    {
     "name": "stdout",
     "output_type": "stream",
     "text": [
      "['64']\n"
     ]
    }
   ],
   "source": [
    "size = []\n",
    "\n",
    "for i in range(len(description)):\n",
    "    text = description[i]\n",
    "    regex = '64|128'\n",
    "    pattern =  re.compile(regex)\n",
    "    res = pattern.findall(text)\n",
    "    \n",
    "    if len(res) == 0:\n",
    "        size.append('NULL')\n",
    "    else:\n",
    "        size.append(res[0])\n",
    "print(size)"
   ]
  },
  {
   "cell_type": "markdown",
   "metadata": {},
   "source": [
    "판다스로 데이터프레임 만들기"
   ]
  },
  {
   "cell_type": "code",
   "execution_count": 9,
   "metadata": {},
   "outputs": [
    {
     "data": {
      "text/html": [
       "<div>\n",
       "<style scoped>\n",
       "    .dataframe tbody tr th:only-of-type {\n",
       "        vertical-align: middle;\n",
       "    }\n",
       "\n",
       "    .dataframe tbody tr th {\n",
       "        vertical-align: top;\n",
       "    }\n",
       "\n",
       "    .dataframe thead th {\n",
       "        text-align: right;\n",
       "    }\n",
       "</style>\n",
       "<table border=\"1\" class=\"dataframe\">\n",
       "  <thead>\n",
       "    <tr style=\"text-align: right;\">\n",
       "      <th></th>\n",
       "      <th>name</th>\n",
       "      <th>price</th>\n",
       "      <th>time</th>\n",
       "      <th>loction</th>\n",
       "      <th>battery</th>\n",
       "      <th>size</th>\n",
       "    </tr>\n",
       "  </thead>\n",
       "  <tbody>\n",
       "    <tr>\n",
       "      <th>0</th>\n",
       "      <td>아이폰11 64 배터리100% 옐로우 ) 63666</td>\n",
       "      <td>390000</td>\n",
       "      <td>2022-05</td>\n",
       "      <td>인천광역시</td>\n",
       "      <td>100</td>\n",
       "      <td>64</td>\n",
       "    </tr>\n",
       "  </tbody>\n",
       "</table>\n",
       "</div>"
      ],
      "text/plain": [
       "                           name   price     time loction battery size\n",
       "0  아이폰11 64 배터리100% 옐로우 ) 63666  390000  2022-05   인천광역시     100   64"
      ]
     },
     "execution_count": 9,
     "metadata": {},
     "output_type": "execute_result"
    }
   ],
   "source": [
    "import pandas as pd\n",
    "df = pd.DataFrame({'name' : thunder1,\n",
    "                 'price' : thunder2,\n",
    "                 'time' : time,\n",
    "                  'loction' : location,\n",
    "                  'battery' : li,\n",
    "                  'size': size\n",
    "                  })\n",
    "df"
   ]
  },
  {
   "cell_type": "markdown",
   "metadata": {},
   "source": [
    "데이터 엑셀파일로 추출"
   ]
  },
  {
   "cell_type": "code",
   "execution_count": 43,
   "metadata": {},
   "outputs": [],
   "source": [
    "from pandas import ExcelWriter\n",
    "df.to_excel('C:/Users/admin/Desktop/big/thunder.xlsx', index=False)"
   ]
  }
 ],
 "metadata": {
  "interpreter": {
   "hash": "3471a69ced72c294a861494ccebc8606aaebdb2cd0ae51bf5d0766065730b7ea"
  },
  "kernelspec": {
   "display_name": "Python 3.10.4 ('python-env')",
   "language": "python",
   "name": "python3"
  },
  "language_info": {
   "codemirror_mode": {
    "name": "ipython",
    "version": 3
   },
   "file_extension": ".py",
   "mimetype": "text/x-python",
   "name": "python",
   "nbconvert_exporter": "python",
   "pygments_lexer": "ipython3",
   "version": "3.10.4"
  },
  "orig_nbformat": 4
 },
 "nbformat": 4,
 "nbformat_minor": 2
}
