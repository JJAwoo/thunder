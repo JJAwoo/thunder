{
 "cells": [
  {
   "cell_type": "markdown",
   "metadata": {},
   "source": [
    "MAIN CODE"
   ]
  },
  {
   "cell_type": "code",
   "execution_count": 4,
   "metadata": {},
   "outputs": [
    {
     "ename": "NameError",
     "evalue": "name 'unix' is not defined",
     "output_type": "error",
     "traceback": [
      "\u001b[1;31m---------------------------------------------------------------------------\u001b[0m",
      "\u001b[1;31mNameError\u001b[0m                                 Traceback (most recent call last)",
      "\u001b[1;32mc:\\thunder\\thunder_main.ipynb Cell 2'\u001b[0m in \u001b[0;36m<cell line: 12>\u001b[1;34m()\u001b[0m\n\u001b[0;32m     <a href='vscode-notebook-cell:/c%3A/thunder/thunder_main.ipynb#ch0000001?line=41'>42</a>\u001b[0m             data \u001b[39m=\u001b[39m res\u001b[39m.\u001b[39mjson()\n\u001b[0;32m     <a href='vscode-notebook-cell:/c%3A/thunder/thunder_main.ipynb#ch0000001?line=43'>44</a>\u001b[0m             description\u001b[39m.\u001b[39mappend(data[\u001b[39m'\u001b[39m\u001b[39mitem_info\u001b[39m\u001b[39m'\u001b[39m][\u001b[39m'\u001b[39m\u001b[39mdescription\u001b[39m\u001b[39m'\u001b[39m])\n\u001b[1;32m---> <a href='vscode-notebook-cell:/c%3A/thunder/thunder_main.ipynb#ch0000001?line=47'>48</a>\u001b[0m         \u001b[39mprint\u001b[39m(name, price, unix, loc)\n\u001b[0;32m     <a href='vscode-notebook-cell:/c%3A/thunder/thunder_main.ipynb#ch0000001?line=48'>49</a>\u001b[0m \u001b[39melse\u001b[39;00m:\n\u001b[0;32m     <a href='vscode-notebook-cell:/c%3A/thunder/thunder_main.ipynb#ch0000001?line=49'>50</a>\u001b[0m     \u001b[39mpass\u001b[39;00m\n",
      "\u001b[1;31mNameError\u001b[0m: name 'unix' is not defined"
     ]
    }
   ],
   "source": [
    "import requests\n",
    "import datetime\n",
    "\n",
    "thunder1=[]\n",
    "thunder2=[]\n",
    "e = []\n",
    "location = []\n",
    "description = []\n",
    "time = []\n",
    "\n",
    "\n",
    "for page_number in range(0,3): \n",
    "\n",
    "    url = \"https://api.bunjang.co.kr/api/1/find_v2.json?q=%EC%95%84%EC%9D%B4%ED%8F%B011&order=score&page={0}&request_id=2022519113331&stat_device=w&n=100&stat_category_required=1&req_ref=search&version=4\".format(page_number)\n",
    "    res = requests.get(url)\n",
    "    res.encoding=None\n",
    "    data = res.json()\n",
    "    \n",
    "    for d in data['list']:\n",
    "        name = d['name']\n",
    "        loc = d['location']\n",
    "        price = int(d['price'])\n",
    "        pid = d['pid']\n",
    "\n",
    "        \n",
    "        excepts = [\"케이스\",\"삽니다\", \"매입\", \"구매\", \"구입\",\"프로\",\"Pro\",\"pro\", \"미니\"]\n",
    "        targets = ['배터리', '판매', '팔아요']\n",
    "\n",
    "        if (price >= 50000) & (price < 1600000) ==True :\n",
    "            if ( d['ad']==False ):\n",
    "                if any(x in d[\"name\"] for x in targets) and not any(x in d['name'] for x in excepts):\n",
    "                    thunder1.append(d['name'])\n",
    "                    thunder2.append(price)\n",
    "                    e.append(price)\n",
    "                    unix = str(datetime.datetime.fromtimestamp(d['update_time']))\n",
    "                    time.append(unix[0:10])\n",
    "                    location.append(loc)\n",
    "\n",
    "                    url2 = 'https://api.bunjang.co.kr/api/1/product/{0}/detail_info.json?version=4'.format(pid)\n",
    "                    res = requests.get(url2)\n",
    "                    res.encoding=None\n",
    "                    data = res.json()\n",
    "                \n",
    "                    description.append(data['item_info']['description'])\n",
    "                    \n",
    "\n",
    "\n",
    "                print(name, price, unix, loc)\n",
    "        else:\n",
    "            pass\n",
    "\n",
    "# print(thunder1,thunder2, time, location )\n"
   ]
  },
  {
   "cell_type": "markdown",
   "metadata": {},
   "source": [
    "Desc 에서 배터리 효율 뽑아내기"
   ]
  },
  {
   "cell_type": "code",
   "execution_count": null,
   "metadata": {},
   "outputs": [
    {
     "name": "stdout",
     "output_type": "stream",
     "text": [
      "['97', '80', 'NULL', 'NULL', '81', '92', '79', '82', 'NULL', '99', '85', 'NULL', 'NULL', '86', 'NULL', '88', '91']\n"
     ]
    },
    {
     "data": {
      "text/plain": [
       "\"\\nfor i in range(len(li)):    \\n    text = li[i]\\n    regex2 = '\\\\d{2,3}'\\n    pattern2 = re.compile(regex2)\\n    res2 = pattern2.findall(text)\\n    li1.append(res2)\\n\""
      ]
     },
     "metadata": {},
     "output_type": "display_data"
    }
   ],
   "source": [
    "import re\n",
    "from bs4 import BeautifulSoup\n",
    "\n",
    "li = []\n",
    "\n",
    "\n",
    "\n",
    "for i in range(len(description)):\n",
    "    text = description[i]\n",
    "    regex = '배터리\\s*.*\\d{2,3}'\n",
    "    pattern =  re.compile(regex)\n",
    "    res = pattern.findall(text)\n",
    "    \n",
    "    regex2 = '\\d{2,3}'\n",
    "    pattern2 = re.compile(regex2)\n",
    "    text = str(res)\n",
    "    res2 = pattern2.findall(text)\n",
    "    if len(res2) == 0:\n",
    "        li.append('NULL')\n",
    "    else:\n",
    "        li.append(res2[0])\n",
    "\n",
    "print(li)\n",
    "\n",
    "\n",
    "\n",
    "'''\n",
    "for i in range(len(li)):    \n",
    "    text = li[i]\n",
    "    regex2 = '\\d{2,3}'\n",
    "    pattern2 = re.compile(regex2)\n",
    "    res2 = pattern2.findall(text)\n",
    "    li1.append(res2)\n",
    "'''\n",
    "#print(li1)"
   ]
  },
  {
   "cell_type": "markdown",
   "metadata": {},
   "source": [
    "판다스로 데이터프레임 만들기"
   ]
  },
  {
   "cell_type": "code",
   "execution_count": 6,
   "metadata": {},
   "outputs": [
    {
     "data": {
      "text/html": [
       "<div>\n",
       "<style scoped>\n",
       "    .dataframe tbody tr th:only-of-type {\n",
       "        vertical-align: middle;\n",
       "    }\n",
       "\n",
       "    .dataframe tbody tr th {\n",
       "        vertical-align: top;\n",
       "    }\n",
       "\n",
       "    .dataframe thead th {\n",
       "        text-align: right;\n",
       "    }\n",
       "</style>\n",
       "<table border=\"1\" class=\"dataframe\">\n",
       "  <thead>\n",
       "    <tr style=\"text-align: right;\">\n",
       "      <th></th>\n",
       "      <th>name</th>\n",
       "      <th>price</th>\n",
       "      <th>time</th>\n",
       "      <th>loction</th>\n",
       "    </tr>\n",
       "  </thead>\n",
       "  <tbody>\n",
       "    <tr>\n",
       "      <th>0</th>\n",
       "      <td>아이폰11 화이트 64기가 A급 배터리성능97 팔아요</td>\n",
       "      <td>400000</td>\n",
       "      <td>2022-05-21</td>\n",
       "      <td>경기도 부천시 중1동</td>\n",
       "    </tr>\n",
       "    <tr>\n",
       "      <th>1</th>\n",
       "      <td>아이폰11 옐로우 64G 배터리92% 판매중</td>\n",
       "      <td>420000</td>\n",
       "      <td>2022-05-21</td>\n",
       "      <td>대구광역시 서구 비산7동</td>\n",
       "    </tr>\n",
       "    <tr>\n",
       "      <th>2</th>\n",
       "      <td>아이폰11 퍼플 256G 배터리81% 새폰급 판매중</td>\n",
       "      <td>470000</td>\n",
       "      <td>2022-05-21</td>\n",
       "      <td>대구광역시 서구 비산7동</td>\n",
       "    </tr>\n",
       "    <tr>\n",
       "      <th>3</th>\n",
       "      <td>아이폰11 액정 부품 (정품추출) 팔아요.</td>\n",
       "      <td>70000</td>\n",
       "      <td>2022-05-21</td>\n",
       "      <td>경기도 수원시 팔달구 인계동</td>\n",
       "    </tr>\n",
       "    <tr>\n",
       "      <th>4</th>\n",
       "      <td>*아이폰 11.128 퍼플 / 외관 A급 / 배터리 91%*</td>\n",
       "      <td>349000</td>\n",
       "      <td>2022-05-21</td>\n",
       "      <td>부산광역시 금정구 부곡제2동</td>\n",
       "    </tr>\n",
       "    <tr>\n",
       "      <th>5</th>\n",
       "      <td>아이폰11 64기가 초S급 판매합니다</td>\n",
       "      <td>340000</td>\n",
       "      <td>2022-05-21</td>\n",
       "      <td>충청북도 청주시 상당구 중앙동</td>\n",
       "    </tr>\n",
       "    <tr>\n",
       "      <th>6</th>\n",
       "      <td>아이폰11 64 화이트 배터리100% 팝니다! )43597</td>\n",
       "      <td>360000</td>\n",
       "      <td>2022-05-21</td>\n",
       "      <td>인천광역시 계양구 계산2동</td>\n",
       "    </tr>\n",
       "    <tr>\n",
       "      <th>7</th>\n",
       "      <td>아이폰11 퍼플64G 새폰급 배터리성능99%</td>\n",
       "      <td>550000</td>\n",
       "      <td>2022-05-21</td>\n",
       "      <td>부산광역시 부산진구 부전제1동</td>\n",
       "    </tr>\n",
       "    <tr>\n",
       "      <th>8</th>\n",
       "      <td>아이폰 11 128기가 화이트색상 배터리 99% SS급</td>\n",
       "      <td>500000</td>\n",
       "      <td>2022-05-21</td>\n",
       "      <td>대구광역시 중구 삼덕동</td>\n",
       "    </tr>\n",
       "    <tr>\n",
       "      <th>9</th>\n",
       "      <td>아이폰7 32기가 배터리85% 11만5천원</td>\n",
       "      <td>115000</td>\n",
       "      <td>2022-05-21</td>\n",
       "      <td>서울특별시 성북구 돈암제1동</td>\n",
       "    </tr>\n",
       "    <tr>\n",
       "      <th>10</th>\n",
       "      <td>아이폰11 퍼플128 배터리89 판매해요</td>\n",
       "      <td>360000</td>\n",
       "      <td>2022-05-21</td>\n",
       "      <td>서울특별시 서초구 서초2동</td>\n",
       "    </tr>\n",
       "    <tr>\n",
       "      <th>11</th>\n",
       "      <td>아이폰11 블랙128 배터리86 판매해요</td>\n",
       "      <td>360000</td>\n",
       "      <td>2022-05-21</td>\n",
       "      <td>서울특별시 서초구 서초2동</td>\n",
       "    </tr>\n",
       "    <tr>\n",
       "      <th>12</th>\n",
       "      <td>A급 아이폰11 128G 화이트 저렴히 판매(498)</td>\n",
       "      <td>395000</td>\n",
       "      <td>2022-05-21</td>\n",
       "      <td>경기도 성남시 분당구 정자1동</td>\n",
       "    </tr>\n",
       "  </tbody>\n",
       "</table>\n",
       "</div>"
      ],
      "text/plain": [
       "                                 name   price        time           loction\n",
       "0      아이폰11 화이트 64기가 A급 배터리성능97 팔아요   400000  2022-05-21       경기도 부천시 중1동\n",
       "1           아이폰11 옐로우 64G 배터리92% 판매중   420000  2022-05-21     대구광역시 서구 비산7동\n",
       "2       아이폰11 퍼플 256G 배터리81% 새폰급 판매중   470000  2022-05-21     대구광역시 서구 비산7동\n",
       "3             아이폰11 액정 부품 (정품추출) 팔아요.   70000  2022-05-21   경기도 수원시 팔달구 인계동\n",
       "4   *아이폰 11.128 퍼플 / 외관 A급 / 배터리 91%*  349000  2022-05-21   부산광역시 금정구 부곡제2동\n",
       "5                아이폰11 64기가 초S급 판매합니다  340000  2022-05-21  충청북도 청주시 상당구 중앙동\n",
       "6    아이폰11 64 화이트 배터리100% 팝니다! )43597  360000  2022-05-21    인천광역시 계양구 계산2동\n",
       "7            아이폰11 퍼플64G 새폰급 배터리성능99%  550000  2022-05-21  부산광역시 부산진구 부전제1동\n",
       "8      아이폰 11 128기가 화이트색상 배터리 99% SS급  500000  2022-05-21      대구광역시 중구 삼덕동\n",
       "9             아이폰7 32기가 배터리85% 11만5천원  115000  2022-05-21   서울특별시 성북구 돈암제1동\n",
       "10             아이폰11 퍼플128 배터리89 판매해요  360000  2022-05-21    서울특별시 서초구 서초2동\n",
       "11             아이폰11 블랙128 배터리86 판매해요  360000  2022-05-21    서울특별시 서초구 서초2동\n",
       "12      A급 아이폰11 128G 화이트 저렴히 판매(498)  395000  2022-05-21  경기도 성남시 분당구 정자1동"
      ]
     },
     "execution_count": 6,
     "metadata": {},
     "output_type": "execute_result"
    }
   ],
   "source": [
    "import pandas as pd\n",
    "df = pd.DataFrame({'name' : thunder1,\n",
    "                 'price' : thunder2,\n",
    "                 'time' : time,\n",
    "                  'loction' : location})\n",
    "df"
   ]
  },
  {
   "cell_type": "code",
   "execution_count": null,
   "metadata": {},
   "outputs": [],
   "source": []
  }
 ],
 "metadata": {
  "interpreter": {
   "hash": "3471a69ced72c294a861494ccebc8606aaebdb2cd0ae51bf5d0766065730b7ea"
  },
  "kernelspec": {
   "display_name": "Python 3.10.4 ('python-env')",
   "language": "python",
   "name": "python3"
  },
  "language_info": {
   "codemirror_mode": {
    "name": "ipython",
    "version": 3
   },
   "file_extension": ".py",
   "mimetype": "text/x-python",
   "name": "python",
   "nbconvert_exporter": "python",
   "pygments_lexer": "ipython3",
   "version": "3.10.4"
  },
  "orig_nbformat": 4
 },
 "nbformat": 4,
 "nbformat_minor": 2
}
